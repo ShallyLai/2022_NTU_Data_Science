{
 "cells": [
  {
   "cell_type": "code",
   "execution_count": 1,
   "id": "679834c3",
   "metadata": {},
   "outputs": [],
   "source": [
    "# %load hw3-p1.py\n",
    "import numpy as np\n",
    "import pandas as pd\n",
    "import matplotlib.pyplot as plt\n",
    "from sklearn.svm import SVC\n",
    "from sklearn.tree import DecisionTreeClassifier\n",
    "from sklearn.model_selection import cross_val_score\n",
    "from sklearn.ensemble import RandomForestClassifier\n"
   ]
  },
  {
   "cell_type": "code",
   "execution_count": 2,
   "id": "eb865b3a",
   "metadata": {},
   "outputs": [],
   "source": [
    "# A vector containing the names of the 2000 genes for the gene expression matrix x.\n",
    "indexes = pd.read_csv('hw3_Data1/index.txt', delimiter = '\\t', header = None)\n",
    "# print(indexes)\n",
    "\n",
    "# A (62 x 2000) matrix giving the expression levels of 2000 genes for the 62 Colon tissue samples. \n",
    "# Each row corresponds to a patient, each column to a gene.\n",
    "x_ = pd.read_csv('hw3_Data1/gene.txt', delimiter = ' ', header = None)#.to_numpy().T\n",
    "x = x_.to_numpy().T\n",
    "# print(x_)\n",
    "\n",
    "# A numeric vector of length 62 giving the type of tissue sample (tumor or normal).\n",
    "y = pd.read_csv('hw3_Data1/label.txt', header = None).to_numpy()\n",
    "y = (y > 0).astype(int).reshape(y.shape[0])\n",
    "# print(sum(y == 1)) #22\n",
    "# print(sum(y == 0)) #40\n",
    "# print(type(y))\n",
    "\n",
    "# Only take the name of genes\n",
    "indexes_name = indexes.iloc[:, 0]\n",
    "pd.options.mode.chained_assignment = None \n",
    "for i in range(2000):\n",
    "\tindexes_name[i] = indexes_name[i].strip()\n",
    "\t# print(indexes_name[i])\n",
    "\n",
    "# Make the table of 2000 features with 62 samples\n",
    "x_.index = indexes_name\n",
    "x_ = x_.T\n",
    "# print(x_)\n",
    "# x_.to_csv(\"output.csv\", index = False)\n"
   ]
  },
  {
   "cell_type": "code",
   "execution_count": 3,
   "id": "f23ac2cd",
   "metadata": {},
   "outputs": [],
   "source": [
    "# Calculate mean of every expression levels and rank it\n",
    "idx_mean = x_.mean().to_frame()\n",
    "# print(type(idx_mean))\n",
    "# print(idx_mean)\n",
    "idx_mean_rank = idx_mean.rank()\n",
    "idx_mean_rank = idx_mean_rank.reset_index(drop = True)\n",
    "idx_mean_rank = idx_mean_rank.astype(int)\n",
    "# print(idx_mean_rank) \n",
    "ranking_idx = idx_mean_rank[0].to_numpy() - 1\n",
    "# print(ranking_idx)\n",
    "# print(len(ranking_idx))\n"
   ]
  },
  {
   "cell_type": "code",
   "execution_count": 4,
   "id": "c9a2846c",
   "metadata": {},
   "outputs": [
    {
     "name": "stdout",
     "output_type": "stream",
     "text": [
      "目前進度：100.0 %"
     ]
    }
   ],
   "source": [
    "import time\n",
    "# Feature evaluation \n",
    "# Use a simple dicision tree with 5-fold validation to evaluate the feature selection result.\n",
    "score_history_RF = []\n",
    "# score_history_DT = []\n",
    "for m in range(5, 2001, 5):\n",
    "    # Select Top m feature\n",
    "    x_subset = x[:, ranking_idx[:m]]\n",
    "\n",
    "    # Build random forest and decision tree\n",
    "    clf_RF = RandomForestClassifier(random_state = 0)\n",
    "#     clf_DT = DecisionTreeClassifier(random_state = 0)\n",
    "\n",
    "    # Calculate validation score\n",
    "    scores_RF = cross_val_score(clf_RF, x_subset, y, cv = 5)\n",
    "#     scores_DT = cross_val_score(clf_DT, x_subset, y, cv = 5)\n",
    "\n",
    "    # Save the score calculated with m feature\n",
    "    score_history_RF.append(scores_RF.mean())\n",
    "#     score_history_DT.append(scores_DT.mean())\n",
    "    \n",
    "    # Show progress bar\n",
    "    print(f'\\r目前進度：{m*100/2000} %', end='')\n",
    "    time.sleep(0.1)\n"
   ]
  },
  {
   "cell_type": "code",
   "execution_count": 6,
   "id": "3ca62f9a",
   "metadata": {},
   "outputs": [
    {
     "name": "stdout",
     "output_type": "stream",
     "text": [
      "Max of Random Forest: 0.9038461538461539\n",
      "Number of features: 160\n"
     ]
    }
   ],
   "source": [
    "# Report best accuracy.\n",
    "# print(f\"Max of Decision Tree: {max(score_history_DT)}\")\n",
    "# print(f\"Number of features: {np.argmax(score_history_DT) * 5 + 5}\")\n",
    "# print(' ')\n",
    "print(f\"Max of Random Forest: {max(score_history_RF)}\")\n",
    "print(f\"Number of features: {np.argmax(score_history_RF) * 5 + 5}\")\n",
    "\n",
    "# # Visualization\n",
    "# plt.plot(range(5, 2001, 5), score_history_RF, c='blue')\n",
    "# plt.title('Original')\n",
    "# plt.xlabel('Number of features')\n",
    "# plt.ylabel('Cross-validation score')\n",
    "# plt.legend(['Random Forest'])\n",
    "# plt.savefig('hw3_p1_RF_result.png')\n"
   ]
  },
  {
   "cell_type": "code",
   "execution_count": 25,
   "id": "e0d45005",
   "metadata": {},
   "outputs": [
    {
     "name": "stdout",
     "output_type": "stream",
     "text": [
      "<class 'pandas.core.frame.DataFrame'>\n"
     ]
    }
   ],
   "source": [
    "pos = np.zeros(2000).astype(int)\n",
    "for i in range(2000):\n",
    "    if ranking_idx[i] < (np.argmax(score_history_RF) * 5 + 5):\n",
    "        pos[i] = 1\n",
    "select = np.where(pos == 1)\n",
    "select = np.asarray(select).flatten()\n",
    "opt_select = indexes.iloc[select]\n",
    "pd.options.mode.chained_assignment = None\n",
    "for i in range(opt_select.shape[0]):\n",
    "    opt_select.iloc[i, 0] = opt_select.iloc[i, 0].strip()\n",
    "print(opt_select)\n",
    "# print(type(opt_select))\n",
    "# opt_select.to_csv(\"p1_opt_select.csv\", index = False)\n"
   ]
  }
 ],
 "metadata": {
  "kernelspec": {
   "display_name": "Python 3 (ipykernel)",
   "language": "python",
   "name": "python3"
  },
  "language_info": {
   "codemirror_mode": {
    "name": "ipython",
    "version": 3
   },
   "file_extension": ".py",
   "mimetype": "text/x-python",
   "name": "python",
   "nbconvert_exporter": "python",
   "pygments_lexer": "ipython3",
   "version": "3.9.13"
  }
 },
 "nbformat": 4,
 "nbformat_minor": 5
}
